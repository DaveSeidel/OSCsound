{
 "metadata": {
  "name": ""
 },
 "nbformat": 3,
 "nbformat_minor": 0,
 "worksheets": [
  {
   "cells": [
    {
     "cell_type": "code",
     "collapsed": false,
     "input": [
      "from OSC import OSCClient, OSCMessage\n",
      "client = OSCClient()\n",
      "client.connect( (\"localhost\", 7110) )\n",
      "\n",
      "client.send( OSCMessage(\"/sco\", [\"i1 0 2\" ] ) )"
     ],
     "language": "python",
     "metadata": {},
     "outputs": [],
     "prompt_number": 5
    },
    {
     "cell_type": "code",
     "collapsed": false,
     "input": [
      "from OSC import OSCClient, OSCMessage\n",
      "client = OSCClient()\n",
      "client.connect( (\"localhost\", 7110) )\n",
      "\n",
      "client.send( OSCMessage(\"/cc\", [\"cutoff\", 4000 ] ) )"
     ],
     "language": "python",
     "metadata": {},
     "outputs": [],
     "prompt_number": 6
    },
    {
     "cell_type": "code",
     "collapsed": false,
     "input": [
      "from OSC import OSCClient, OSCMessage\n",
      "client = OSCClient()\n",
      "client.connect( (\"localhost\", 7110) )\n",
      "\n",
      "client.send( OSCMessage(\"/quit\") )"
     ],
     "language": "python",
     "metadata": {},
     "outputs": [],
     "prompt_number": 7
    },
    {
     "cell_type": "code",
     "collapsed": false,
     "input": [],
     "language": "python",
     "metadata": {},
     "outputs": []
    }
   ],
   "metadata": {}
  }
 ]
}