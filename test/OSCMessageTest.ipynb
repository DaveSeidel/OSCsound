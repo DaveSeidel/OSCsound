{
 "metadata": {
  "name": ""
 },
 "nbformat": 3,
 "nbformat_minor": 0,
 "worksheets": [
  {
   "cells": [
    {
     "cell_type": "code",
     "collapsed": false,
     "input": [
      "from OSC import OSCClient, OSCMessage\n",
      "client = OSCClient()\n",
      "client.connect( (\"localhost\", 7110) )\n",
      "\n",
      "client.send( OSCMessage(\"/sco\", [\"i1 0 10\" ] ) )"
     ],
     "language": "python",
     "metadata": {},
     "outputs": [],
     "prompt_number": 42
    },
    {
     "cell_type": "code",
     "collapsed": false,
     "input": [
      "from OSC import OSCClient, OSCMessage\n",
      "client = OSCClient()\n",
      "client.connect( (\"localhost\", 7110) )\n",
      "\n",
      "client.send( OSCMessage(\"/cc/cutoff\", [ 4000 ] ) )"
     ],
     "language": "python",
     "metadata": {},
     "outputs": [],
     "prompt_number": 39
    },
    {
     "cell_type": "code",
     "collapsed": false,
     "input": [
      "from OSC import OSCClient, OSCMessage\n",
      "client = OSCClient()\n",
      "client.connect( (\"localhost\", 7110) )\n",
      "\n",
      "client.send( OSCMessage(\"/quit\") )"
     ],
     "language": "python",
     "metadata": {},
     "outputs": [],
     "prompt_number": 40
    },
    {
     "cell_type": "code",
     "collapsed": false,
     "input": [],
     "language": "python",
     "metadata": {},
     "outputs": []
    }
   ],
   "metadata": {}
  }
 ]
}
